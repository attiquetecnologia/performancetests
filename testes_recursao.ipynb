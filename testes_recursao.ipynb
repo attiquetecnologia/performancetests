{
 "cells": [
  {
   "cell_type": "code",
   "execution_count": 1,
   "id": "e9878f3d",
   "metadata": {},
   "outputs": [
    {
     "name": "stdout",
     "output_type": "stream",
     "text": [
      "N° 0\n",
      "N° 1\n",
      "N° 2\n",
      "N° 3\n",
      "N° 4\n",
      "N° 5\n",
      "N° 6\n",
      "N° 7\n",
      "N° 8\n",
      "N° 9\n",
      "Tempo de execução 0.0002077559997815115 s\n"
     ]
    }
   ],
   "source": [
    "import time\n",
    "\n",
    "start = time.perf_counter()\n",
    "for p in range(0,10):\n",
    "    print(f\"N° {p}\")\n",
    "end = time.perf_counter()\n",
    "\n",
    "print(f\"Tempo de execução {(end-start)} s\")"
   ]
  },
  {
   "cell_type": "code",
   "execution_count": 2,
   "id": "6bcd732a",
   "metadata": {},
   "outputs": [
    {
     "name": "stdout",
     "output_type": "stream",
     "text": [
      "N° 0\n",
      "N° 1\n",
      "N° 2\n",
      "N° 3\n",
      "N° 4\n",
      "N° 5\n",
      "N° 6\n",
      "N° 7\n",
      "N° 8\n",
      "N° 9\n",
      "Tempo de execução 0.00019632199973784736 s\n"
     ]
    }
   ],
   "source": [
    "import time\n",
    "\n",
    "def contar(inicio, fim):\n",
    "    print(f\"N° {inicio}\")\n",
    "    if inicio < fim -1:\n",
    "        return contar(inicio+1, fim)\n",
    "\n",
    "start = time.perf_counter()\n",
    "contar(0,10)\n",
    "end = time.perf_counter()\n",
    "\n",
    "print(f\"Tempo de execução {(end-start)} s\")"
   ]
  }
 ],
 "metadata": {
  "kernelspec": {
   "display_name": ".venv",
   "language": "python",
   "name": "python3"
  },
  "language_info": {
   "codemirror_mode": {
    "name": "ipython",
    "version": 3
   },
   "file_extension": ".py",
   "mimetype": "text/x-python",
   "name": "python",
   "nbconvert_exporter": "python",
   "pygments_lexer": "ipython3",
   "version": "3.12.3"
  }
 },
 "nbformat": 4,
 "nbformat_minor": 5
}
